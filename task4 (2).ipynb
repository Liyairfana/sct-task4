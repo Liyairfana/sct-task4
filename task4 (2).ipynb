{
  "nbformat": 4,
  "nbformat_minor": 0,
  "metadata": {
    "colab": {
      "provenance": []
    },
    "kernelspec": {
      "name": "python3",
      "display_name": "Python 3"
    },
    "language_info": {
      "name": "python"
    }
  },
  "cells": [
    {
      "cell_type": "code",
      "execution_count": 5,
      "metadata": {
        "id": "SyBV6fka58Fl"
      },
      "outputs": [],
      "source": [
        "import numpy as np\n",
        "import pandas as pd\n",
        "import matplotlib.pyplot as plt\n",
        "from sklearn.model_selection import train_test_split\n",
        "from sklearn.metrics import classification_report, confusion_matrix\n",
        "import tensorflow as tf\n",
        "from tensorflow.keras import layers, models"
      ]
    },
    {
      "cell_type": "code",
      "source": [
        "train_df = pd.read_csv('sign_mnist_train.csv')  # Change path if needed\n",
        "test_df = pd.read_csv('sign_mnist_test.csv')"
      ],
      "metadata": {
        "id": "oUcypAjR6A5h"
      },
      "execution_count": 6,
      "outputs": []
    },
    {
      "cell_type": "code",
      "source": [
        "# Separate features and labels\n",
        "X_train = train_df.drop('label', axis=1).values\n",
        "y_train = train_df['label'].values\n",
        "X_test = test_df.drop('label', axis=1).values\n",
        "y_test = test_df['label'].values"
      ],
      "metadata": {
        "id": "Eiyz_MSi6GEl"
      },
      "execution_count": 7,
      "outputs": []
    },
    {
      "cell_type": "code",
      "source": [
        "# Normalize and reshape\n",
        "X_train = X_train / 255.0\n",
        "X_test = X_test / 255.0\n",
        "X_train = X_train.reshape(-1, 28, 28, 1)\n",
        "X_test = X_test.reshape(-1, 28, 28, 1)"
      ],
      "metadata": {
        "id": "sGQGgYvx6Kpi"
      },
      "execution_count": 8,
      "outputs": []
    },
    {
      "cell_type": "code",
      "source": [
        "# One-hot encode labels\n",
        "num_classes = np.max(y_train) + 1  # Fix: account for all label indices\n",
        "y_train_cat = tf.keras.utils.to_categorical(y_train, num_classes)\n",
        "y_test_cat = tf.keras.utils.to_categorical(y_test, num_classes)\n"
      ],
      "metadata": {
        "id": "xtSTIhlN6OXm"
      },
      "execution_count": 9,
      "outputs": []
    },
    {
      "cell_type": "code",
      "source": [
        "\n",
        "# Build CNN Model\n",
        "model = models.Sequential([\n",
        "    layers.Conv2D(32, (3,3), activation='relu', input_shape=(28,28,1)),\n",
        "    layers.MaxPooling2D(2,2),\n",
        "    layers.Conv2D(64, (3,3), activation='relu'),\n",
        "    layers.MaxPooling2D(2,2),\n",
        "    layers.Flatten(),\n",
        "    layers.Dense(128, activation='relu'),\n",
        "    layers.Dense(num_classes, activation='softmax')\n",
        "])"
      ],
      "metadata": {
        "id": "pTNgZpZZ6STq",
        "colab": {
          "base_uri": "https://localhost:8080/"
        },
        "outputId": "5353663e-68a1-487f-bce4-5b60852d4f9d"
      },
      "execution_count": 10,
      "outputs": [
        {
          "output_type": "stream",
          "name": "stderr",
          "text": [
            "/usr/local/lib/python3.11/dist-packages/keras/src/layers/convolutional/base_conv.py:107: UserWarning: Do not pass an `input_shape`/`input_dim` argument to a layer. When using Sequential models, prefer using an `Input(shape)` object as the first layer in the model instead.\n",
            "  super().__init__(activity_regularizer=activity_regularizer, **kwargs)\n"
          ]
        }
      ]
    },
    {
      "cell_type": "code",
      "source": [
        "# Compile the model\n",
        "model.compile(optimizer='adam', loss='categorical_crossentropy', metrics=['accuracy'])"
      ],
      "metadata": {
        "id": "EWhWaM4w6Vm1"
      },
      "execution_count": 11,
      "outputs": []
    },
    {
      "cell_type": "code",
      "source": [
        "# Train\n",
        "model.fit(X_train, y_train_cat, epochs=10, validation_split=0.2, batch_size=64)"
      ],
      "metadata": {
        "id": "botvnAeo6Yvt",
        "colab": {
          "base_uri": "https://localhost:8080/"
        },
        "outputId": "5ea0695c-d739-4bfd-b05c-50419fe55933"
      },
      "execution_count": 12,
      "outputs": [
        {
          "output_type": "stream",
          "name": "stdout",
          "text": [
            "Epoch 1/10\n",
            "\u001b[1m344/344\u001b[0m \u001b[32m━━━━━━━━━━━━━━━━━━━━\u001b[0m\u001b[37m\u001b[0m \u001b[1m22s\u001b[0m 57ms/step - accuracy: 0.3654 - loss: 2.2052 - val_accuracy: 0.8926 - val_loss: 0.3819\n",
            "Epoch 2/10\n",
            "\u001b[1m344/344\u001b[0m \u001b[32m━━━━━━━━━━━━━━━━━━━━\u001b[0m\u001b[37m\u001b[0m \u001b[1m18s\u001b[0m 53ms/step - accuracy: 0.9240 - loss: 0.2777 - val_accuracy: 0.9913 - val_loss: 0.0699\n",
            "Epoch 3/10\n",
            "\u001b[1m344/344\u001b[0m \u001b[32m━━━━━━━━━━━━━━━━━━━━\u001b[0m\u001b[37m\u001b[0m \u001b[1m22s\u001b[0m 58ms/step - accuracy: 0.9943 - loss: 0.0530 - val_accuracy: 0.9991 - val_loss: 0.0201\n",
            "Epoch 4/10\n",
            "\u001b[1m344/344\u001b[0m \u001b[32m━━━━━━━━━━━━━━━━━━━━\u001b[0m\u001b[37m\u001b[0m \u001b[1m19s\u001b[0m 53ms/step - accuracy: 0.9998 - loss: 0.0141 - val_accuracy: 0.9991 - val_loss: 0.0102\n",
            "Epoch 5/10\n",
            "\u001b[1m344/344\u001b[0m \u001b[32m━━━━━━━━━━━━━━━━━━━━\u001b[0m\u001b[37m\u001b[0m \u001b[1m21s\u001b[0m 53ms/step - accuracy: 0.9999 - loss: 0.0061 - val_accuracy: 1.0000 - val_loss: 0.0042\n",
            "Epoch 6/10\n",
            "\u001b[1m344/344\u001b[0m \u001b[32m━━━━━━━━━━━━━━━━━━━━\u001b[0m\u001b[37m\u001b[0m \u001b[1m22s\u001b[0m 58ms/step - accuracy: 1.0000 - loss: 0.0030 - val_accuracy: 0.9995 - val_loss: 0.0033\n",
            "Epoch 7/10\n",
            "\u001b[1m344/344\u001b[0m \u001b[32m━━━━━━━━━━━━━━━━━━━━\u001b[0m\u001b[37m\u001b[0m \u001b[1m18s\u001b[0m 53ms/step - accuracy: 1.0000 - loss: 0.0019 - val_accuracy: 0.9998 - val_loss: 0.0020\n",
            "Epoch 8/10\n",
            "\u001b[1m344/344\u001b[0m \u001b[32m━━━━━━━━━━━━━━━━━━━━\u001b[0m\u001b[37m\u001b[0m \u001b[1m22s\u001b[0m 57ms/step - accuracy: 1.0000 - loss: 0.0012 - val_accuracy: 0.9975 - val_loss: 0.0075\n",
            "Epoch 9/10\n",
            "\u001b[1m344/344\u001b[0m \u001b[32m━━━━━━━━━━━━━━━━━━━━\u001b[0m\u001b[37m\u001b[0m \u001b[1m19s\u001b[0m 53ms/step - accuracy: 0.9797 - loss: 0.0659 - val_accuracy: 1.0000 - val_loss: 0.0014\n",
            "Epoch 10/10\n",
            "\u001b[1m344/344\u001b[0m \u001b[32m━━━━━━━━━━━━━━━━━━━━\u001b[0m\u001b[37m\u001b[0m \u001b[1m21s\u001b[0m 60ms/step - accuracy: 1.0000 - loss: 9.5386e-04 - val_accuracy: 1.0000 - val_loss: 8.9947e-04\n"
          ]
        },
        {
          "output_type": "execute_result",
          "data": {
            "text/plain": [
              "<keras.src.callbacks.history.History at 0x7dc33dd0d910>"
            ]
          },
          "metadata": {},
          "execution_count": 12
        }
      ]
    },
    {
      "cell_type": "code",
      "source": [
        "# Evaluate\n",
        "test_loss, test_acc = model.evaluate(X_test, y_test_cat)\n",
        "print(f\"Test Accuracy: {test_acc:.4f}\")"
      ],
      "metadata": {
        "id": "ZH4SgIbp6gSt",
        "colab": {
          "base_uri": "https://localhost:8080/"
        },
        "outputId": "f0f426e8-aacf-433e-c7ed-899fbc21ebd1"
      },
      "execution_count": 13,
      "outputs": [
        {
          "output_type": "stream",
          "name": "stdout",
          "text": [
            "\u001b[1m225/225\u001b[0m \u001b[32m━━━━━━━━━━━━━━━━━━━━\u001b[0m\u001b[37m\u001b[0m \u001b[1m2s\u001b[0m 11ms/step - accuracy: 0.9071 - loss: 0.3994\n",
            "Test Accuracy: 0.9090\n"
          ]
        }
      ]
    },
    {
      "cell_type": "code",
      "source": [
        "# Predict and show confusion matrix\n",
        "y_pred = model.predict(X_test)\n",
        "y_pred_classes = np.argmax(y_pred, axis=1)"
      ],
      "metadata": {
        "id": "yBBwfGVd-u97",
        "colab": {
          "base_uri": "https://localhost:8080/"
        },
        "outputId": "fe5d669c-faf0-4fe9-930c-87ea839eb574"
      },
      "execution_count": 14,
      "outputs": [
        {
          "output_type": "stream",
          "name": "stdout",
          "text": [
            "\u001b[1m225/225\u001b[0m \u001b[32m━━━━━━━━━━━━━━━━━━━━\u001b[0m\u001b[37m\u001b[0m \u001b[1m2s\u001b[0m 7ms/step\n"
          ]
        }
      ]
    },
    {
      "cell_type": "code",
      "source": [
        "print(\"\\nClassification Report:\\n\")\n",
        "print(classification_report(y_test, y_pred_classes))"
      ],
      "metadata": {
        "id": "qKvxHKpz_Ndw",
        "colab": {
          "base_uri": "https://localhost:8080/"
        },
        "outputId": "32a65638-2bf0-4455-bcbb-8bc20807e0c6"
      },
      "execution_count": 15,
      "outputs": [
        {
          "output_type": "stream",
          "name": "stdout",
          "text": [
            "\n",
            "Classification Report:\n",
            "\n",
            "              precision    recall  f1-score   support\n",
            "\n",
            "           0       0.90      1.00      0.95       331\n",
            "           1       1.00      0.97      0.98       432\n",
            "           2       1.00      1.00      1.00       310\n",
            "           3       1.00      1.00      1.00       245\n",
            "           4       0.89      0.93      0.91       498\n",
            "           5       1.00      1.00      1.00       247\n",
            "           6       0.88      0.84      0.86       348\n",
            "           7       0.93      0.91      0.92       436\n",
            "           8       0.84      0.92      0.87       288\n",
            "          10       0.99      1.00      0.99       331\n",
            "          11       0.86      1.00      0.92       209\n",
            "          12       0.94      0.90      0.92       394\n",
            "          13       0.99      0.72      0.83       291\n",
            "          14       1.00      0.83      0.91       246\n",
            "          15       1.00      0.97      0.99       347\n",
            "          16       0.83      0.99      0.90       164\n",
            "          17       0.65      0.57      0.61       144\n",
            "          18       0.80      0.92      0.85       246\n",
            "          19       0.73      0.67      0.70       248\n",
            "          20       0.80      0.89      0.84       266\n",
            "          21       0.94      0.93      0.94       346\n",
            "          22       0.91      0.92      0.91       206\n",
            "          23       0.84      0.92      0.88       267\n",
            "          24       0.92      0.84      0.88       332\n",
            "\n",
            "    accuracy                           0.91      7172\n",
            "   macro avg       0.90      0.90      0.90      7172\n",
            "weighted avg       0.91      0.91      0.91      7172\n",
            "\n"
          ]
        }
      ]
    },
    {
      "cell_type": "code",
      "source": [
        "cm = confusion_matrix(y_test, y_pred_classes)\n",
        "plt.figure(figsize=(10,8))\n",
        "plt.imshow(cm, cmap='Blues')\n",
        "plt.title(\"Confusion Matrix\")\n",
        "plt.colorbar()\n",
        "plt.xlabel(\"Predicted\")\n",
        "plt.ylabel(\"True\")\n",
        "plt.show()"
      ],
      "metadata": {
        "id": "8uUETP73_SE6",
        "colab": {
          "base_uri": "https://localhost:8080/",
          "height": 718
        },
        "outputId": "e4eb63a7-23d7-43ff-a0a5-a44db2e48685"
      },
      "execution_count": 16,
      "outputs": [
        {
          "output_type": "display_data",
          "data": {
            "text/plain": [
              "<Figure size 1000x800 with 2 Axes>"
            ],
            "image/png": "[encoded data removed]"
          },
          "metadata": {}
        }
      ]
    }
  ]
}